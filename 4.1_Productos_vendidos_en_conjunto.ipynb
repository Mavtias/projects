{
 "cells": [
  {
   "cell_type": "code",
   "execution_count": 3,
   "id": "82390aa3",
   "metadata": {},
   "outputs": [],
   "source": [
    "import pandas as pd"
   ]
  },
  {
   "cell_type": "code",
   "execution_count": 4,
   "id": "3b6e5e70",
   "metadata": {},
   "outputs": [],
   "source": [
    "factura_final = pd.read_csv(\"factura_final_mediana.csv\")"
   ]
  },
  {
   "cell_type": "markdown",
   "id": "3da3118e",
   "metadata": {},
   "source": [
    "Creamos el codigo en el que introducimos el codigo de producto y nos dice de dicho producto los productos mas acompañados con ellos por tickets"
   ]
  },
  {
   "cell_type": "code",
   "execution_count": null,
   "id": "5357822a",
   "metadata": {},
   "outputs": [],
   "source": []
  },
  {
   "cell_type": "code",
   "execution_count": null,
   "id": "7bf240ff",
   "metadata": {},
   "outputs": [],
   "source": []
  },
  {
   "cell_type": "code",
   "execution_count": null,
   "id": "32e5b9f2",
   "metadata": {},
   "outputs": [],
   "source": []
  },
  {
   "cell_type": "code",
   "execution_count": null,
   "id": "f2f12253",
   "metadata": {},
   "outputs": [],
   "source": []
  },
  {
   "cell_type": "code",
   "execution_count": null,
   "id": "803d91c7",
   "metadata": {},
   "outputs": [],
   "source": []
  },
  {
   "cell_type": "code",
   "execution_count": null,
   "id": "593006a3",
   "metadata": {},
   "outputs": [],
   "source": []
  },
  {
   "cell_type": "code",
   "execution_count": null,
   "id": "0b0dcf97",
   "metadata": {},
   "outputs": [],
   "source": []
  },
  {
   "cell_type": "code",
   "execution_count": null,
   "id": "7d4d741c",
   "metadata": {},
   "outputs": [],
   "source": []
  },
  {
   "cell_type": "markdown",
   "id": "3ea8334e",
   "metadata": {},
   "source": [
    "# Cervezas"
   ]
  },
  {
   "cell_type": "markdown",
   "id": "66635d1f",
   "metadata": {},
   "source": [
    "Podemos ver como juntos con las cervezas de 1L, los productos que le acompañan son otras cervezas, la bolsa para poder llevar el litro de cerveza, chuches, bolleria de 1€ fruta, pan y refrescos."
   ]
  },
  {
   "cell_type": "code",
   "execution_count": 3,
   "id": "497c613b",
   "metadata": {},
   "outputs": [
    {
     "name": "stdout",
     "output_type": "stream",
     "text": [
      "Los productos más comprados con el producto' Cerveza 1l CRUZCAMPO 'son:  \n",
      "\n"
     ]
    },
    {
     "data": {
      "text/html": [
       "<div>\n",
       "<style scoped>\n",
       "    .dataframe tbody tr th:only-of-type {\n",
       "        vertical-align: middle;\n",
       "    }\n",
       "\n",
       "    .dataframe tbody tr th {\n",
       "        vertical-align: top;\n",
       "    }\n",
       "\n",
       "    .dataframe thead th {\n",
       "        text-align: right;\n",
       "    }\n",
       "</style>\n",
       "<table border=\"1\" class=\"dataframe\">\n",
       "  <thead>\n",
       "    <tr style=\"text-align: right;\">\n",
       "      <th></th>\n",
       "      <th>Codigo</th>\n",
       "      <th>Producto</th>\n",
       "      <th>Unidades</th>\n",
       "    </tr>\n",
       "  </thead>\n",
       "  <tbody>\n",
       "    <tr>\n",
       "      <th>0</th>\n",
       "      <td>1069</td>\n",
       "      <td>Cerveza 1l CRUZCAMPO</td>\n",
       "      <td>8671.0</td>\n",
       "    </tr>\n",
       "    <tr>\n",
       "      <th>1</th>\n",
       "      <td>6938</td>\n",
       "      <td>Bolsa Plastico LEY</td>\n",
       "      <td>2530.0</td>\n",
       "    </tr>\n",
       "    <tr>\n",
       "      <th>2</th>\n",
       "      <td>7307</td>\n",
       "      <td>Pan</td>\n",
       "      <td>1402.0</td>\n",
       "    </tr>\n",
       "    <tr>\n",
       "      <th>3</th>\n",
       "      <td>1078</td>\n",
       "      <td>Chuches 0.05</td>\n",
       "      <td>1331.0</td>\n",
       "    </tr>\n",
       "    <tr>\n",
       "      <th>4</th>\n",
       "      <td>1034</td>\n",
       "      <td>Cerveza 33cl CRUZCAMPO</td>\n",
       "      <td>894.0</td>\n",
       "    </tr>\n",
       "    <tr>\n",
       "      <th>5</th>\n",
       "      <td>1119</td>\n",
       "      <td>Fruta al peso</td>\n",
       "      <td>577.0</td>\n",
       "    </tr>\n",
       "    <tr>\n",
       "      <th>6</th>\n",
       "      <td>1118</td>\n",
       "      <td>Producto de Oferta</td>\n",
       "      <td>555.0</td>\n",
       "    </tr>\n",
       "    <tr>\n",
       "      <th>7</th>\n",
       "      <td>1068</td>\n",
       "      <td>Cerveza 1l VITORIA</td>\n",
       "      <td>244.0</td>\n",
       "    </tr>\n",
       "    <tr>\n",
       "      <th>8</th>\n",
       "      <td>2760</td>\n",
       "      <td>cervesa alhambra 1l</td>\n",
       "      <td>219.0</td>\n",
       "    </tr>\n",
       "    <tr>\n",
       "      <th>9</th>\n",
       "      <td>1042</td>\n",
       "      <td>Coca cola 2L</td>\n",
       "      <td>183.0</td>\n",
       "    </tr>\n",
       "  </tbody>\n",
       "</table>\n",
       "</div>"
      ],
      "text/plain": [
       "   Codigo                Producto  Unidades\n",
       "0    1069    Cerveza 1l CRUZCAMPO    8671.0\n",
       "1    6938      Bolsa Plastico LEY    2530.0\n",
       "2    7307                     Pan    1402.0\n",
       "3    1078            Chuches 0.05    1331.0\n",
       "4    1034  Cerveza 33cl CRUZCAMPO     894.0\n",
       "5    1119           Fruta al peso     577.0\n",
       "6    1118      Producto de Oferta     555.0\n",
       "7    1068      Cerveza 1l VITORIA     244.0\n",
       "8    2760     cervesa alhambra 1l     219.0\n",
       "9    1042           Coca cola 2L      183.0"
      ]
     },
     "execution_count": 3,
     "metadata": {},
     "output_type": "execute_result"
    }
   ],
   "source": [
    "codigo_producto=1069\n",
    "indice = factura_final.loc[factura_final[\"Codigo\"] == codigo_producto].index[0]\n",
    "valor = factura_final.loc[indice, \"Producto\"]\n",
    "print(\"Los productos más comprados con el producto'\", valor, \"'son:  \\n\")\n",
    "df_groupby=factura_final.groupby(\"Num_Factura\")\n",
    "df_filtrado = df_groupby.filter(lambda x: codigo_producto in x[\"Codigo\"].values)\n",
    "df_conteo = df_filtrado.groupby(\"Producto\")[[\"Unidades\"]].sum().round(0)\n",
    "df_conteo = df_conteo.sort_values(\"Unidades\", ascending=False)\n",
    "df_consulta = pd.DataFrame(df_conteo)\n",
    "df_consulta = df_consulta.reset_index()\n",
    "df_consulta = df_consulta.rename(columns={\"index\": \"Producto\"})\n",
    "producto_to_codigo = dict(zip(factura_final[\"Producto\"], factura_final[\"Codigo\"]))\n",
    "df_consulta[\"Codigo\"] = df_consulta[\"Producto\"].map(producto_to_codigo)\n",
    "df_consulta = df_consulta.reindex(columns=[\"Codigo\", \"Producto\", \"Unidades\"])\n",
    "df_consulta.head(10)"
   ]
  },
  {
   "cell_type": "markdown",
   "id": "63047fec",
   "metadata": {},
   "source": [
    "La diferencia de las latas (que son mas pequeñas) con respecto a las cervezas de litro, son que se compran menos bolsas y que se añaden otros refrescos o bebidas energeticas."
   ]
  },
  {
   "cell_type": "code",
   "execution_count": 4,
   "id": "657ab8c5",
   "metadata": {},
   "outputs": [
    {
     "name": "stdout",
     "output_type": "stream",
     "text": [
      "Los productos más comprados con el producto' Cerveza 33cl SKOL 'son:  \n",
      "\n"
     ]
    },
    {
     "data": {
      "text/html": [
       "<div>\n",
       "<style scoped>\n",
       "    .dataframe tbody tr th:only-of-type {\n",
       "        vertical-align: middle;\n",
       "    }\n",
       "\n",
       "    .dataframe tbody tr th {\n",
       "        vertical-align: top;\n",
       "    }\n",
       "\n",
       "    .dataframe thead th {\n",
       "        text-align: right;\n",
       "    }\n",
       "</style>\n",
       "<table border=\"1\" class=\"dataframe\">\n",
       "  <thead>\n",
       "    <tr style=\"text-align: right;\">\n",
       "      <th></th>\n",
       "      <th>Codigo</th>\n",
       "      <th>Producto</th>\n",
       "      <th>Unidades</th>\n",
       "    </tr>\n",
       "  </thead>\n",
       "  <tbody>\n",
       "    <tr>\n",
       "      <th>0</th>\n",
       "      <td>1035</td>\n",
       "      <td>Cerveza 33cl SKOL</td>\n",
       "      <td>28278.0</td>\n",
       "    </tr>\n",
       "    <tr>\n",
       "      <th>1</th>\n",
       "      <td>7307</td>\n",
       "      <td>Pan</td>\n",
       "      <td>2730.0</td>\n",
       "    </tr>\n",
       "    <tr>\n",
       "      <th>2</th>\n",
       "      <td>1078</td>\n",
       "      <td>Chuches 0.05</td>\n",
       "      <td>2210.0</td>\n",
       "    </tr>\n",
       "    <tr>\n",
       "      <th>3</th>\n",
       "      <td>6938</td>\n",
       "      <td>Bolsa Plastico LEY</td>\n",
       "      <td>2008.0</td>\n",
       "    </tr>\n",
       "    <tr>\n",
       "      <th>4</th>\n",
       "      <td>1033</td>\n",
       "      <td>Cerveza 33cl VICTORIA</td>\n",
       "      <td>1963.0</td>\n",
       "    </tr>\n",
       "    <tr>\n",
       "      <th>5</th>\n",
       "      <td>1119</td>\n",
       "      <td>Fruta al peso</td>\n",
       "      <td>1017.0</td>\n",
       "    </tr>\n",
       "    <tr>\n",
       "      <th>6</th>\n",
       "      <td>1118</td>\n",
       "      <td>Producto de Oferta</td>\n",
       "      <td>998.0</td>\n",
       "    </tr>\n",
       "    <tr>\n",
       "      <th>7</th>\n",
       "      <td>3965</td>\n",
       "      <td>Blue Chameleon Bebida Energetica</td>\n",
       "      <td>774.0</td>\n",
       "    </tr>\n",
       "    <tr>\n",
       "      <th>8</th>\n",
       "      <td>1070</td>\n",
       "      <td>Cerveza 1l SKOL</td>\n",
       "      <td>680.0</td>\n",
       "    </tr>\n",
       "    <tr>\n",
       "      <th>9</th>\n",
       "      <td>1015</td>\n",
       "      <td>Coca cola 33cl</td>\n",
       "      <td>502.0</td>\n",
       "    </tr>\n",
       "  </tbody>\n",
       "</table>\n",
       "</div>"
      ],
      "text/plain": [
       "   Codigo                          Producto  Unidades\n",
       "0    1035                 Cerveza 33cl SKOL   28278.0\n",
       "1    7307                               Pan    2730.0\n",
       "2    1078                      Chuches 0.05    2210.0\n",
       "3    6938                Bolsa Plastico LEY    2008.0\n",
       "4    1033             Cerveza 33cl VICTORIA    1963.0\n",
       "5    1119                     Fruta al peso    1017.0\n",
       "6    1118                Producto de Oferta     998.0\n",
       "7    3965  Blue Chameleon Bebida Energetica     774.0\n",
       "8    1070                   Cerveza 1l SKOL     680.0\n",
       "9    1015                    Coca cola 33cl     502.0"
      ]
     },
     "execution_count": 4,
     "metadata": {},
     "output_type": "execute_result"
    }
   ],
   "source": [
    "codigo_producto=1035\n",
    "indice = factura_final.loc[factura_final[\"Codigo\"] == codigo_producto].index[0]\n",
    "valor = factura_final.loc[indice, \"Producto\"]\n",
    "print(\"Los productos más comprados con el producto'\", valor, \"'son:  \\n\")\n",
    "df_groupby=factura_final.groupby(\"Num_Factura\")\n",
    "df_filtrado = df_groupby.filter(lambda x: codigo_producto in x[\"Codigo\"].values)\n",
    "df_conteo = df_filtrado.groupby(\"Producto\")[[\"Unidades\"]].sum().round(0)\n",
    "df_conteo = df_conteo.sort_values(\"Unidades\", ascending=False)\n",
    "df_consulta = pd.DataFrame(df_conteo)\n",
    "df_consulta = df_consulta.reset_index()\n",
    "df_consulta = df_consulta.rename(columns={\"index\": \"Producto\"})\n",
    "producto_to_codigo = dict(zip(factura_final[\"Producto\"], factura_final[\"Codigo\"]))\n",
    "df_consulta[\"Codigo\"] = df_consulta[\"Producto\"].map(producto_to_codigo)\n",
    "df_consulta = df_consulta.reindex(columns=[\"Codigo\", \"Producto\", \"Unidades\"])\n",
    "df_consulta.head(10)"
   ]
  },
  {
   "cell_type": "code",
   "execution_count": 5,
   "id": "a0c02fa3",
   "metadata": {},
   "outputs": [
    {
     "name": "stdout",
     "output_type": "stream",
     "text": [
      "El producto Cerveza 33cl VICTORIA  \n",
      "\n",
      "suele ir acompañado por estos 10 productos: \n",
      " \n",
      "                          Unidades\n",
      "Producto                         \n",
      "Cerveza 33cl VICTORIA     25745.0\n",
      "Bolsa Plastico LEY         3177.0\n",
      "Pan                        2568.0\n",
      "Cerveza 33cl SKOL          2095.0\n",
      "Chuches 0.05               1823.0\n",
      "Fruta al peso               946.1\n",
      "Cerveza 33cl CRUZCAMPO      911.0\n",
      "Producto de Oferta          906.0\n",
      "Cerveza 33cl SAN MIGUEL     576.0\n",
      "Cerveza 1l VITORIA          536.0\n"
     ]
    }
   ],
   "source": [
    "codigo_producto=1033\n",
    "indice = factura_final.loc[factura_final[\"Codigo\"] == codigo_producto].index[0]\n",
    "valor = factura_final.loc[indice, \"Producto\"]\n",
    "print(\"El producto\", valor, \" \\n\")\n",
    "df_groupby=factura_final.groupby(\"Num_Factura\")\n",
    "df_filtrado = df_groupby.filter(lambda x: codigo_producto in x[\"Codigo\"].values)\n",
    "df_conteo = df_filtrado.groupby(\"Producto\")[[\"Unidades\"]].sum().round(1)\n",
    "df_conteo = df_conteo.sort_values(\"Unidades\", ascending=False)\n",
    "print(\"suele ir acompañado por estos 10 productos: \\n \\n\",df_conteo.head(10))"
   ]
  },
  {
   "cell_type": "markdown",
   "id": "6393ceef",
   "metadata": {},
   "source": [
    "Curiosidad que el que compra cerveza sin alcohol, el refresco que acompaña suele ser zero/zero, con lo que podemos ver que el consumidor intenta \"cuidarse\""
   ]
  },
  {
   "cell_type": "code",
   "execution_count": 6,
   "id": "e346d697",
   "metadata": {},
   "outputs": [
    {
     "name": "stdout",
     "output_type": "stream",
     "text": [
      "El producto Cerveza sin 0,0 33cl SAN MIGUEL   \n",
      "\n",
      "suele ir acompañado por estos 10 productos: \n",
      " \n",
      "                                        Unidades\n",
      "Producto                                       \n",
      "Cerveza sin 0,0 33cl SAN MIGUEL          1878.0\n",
      "Pan                                       485.0\n",
      "Chuches 0.05                              450.0\n",
      "Fruta al peso                             384.1\n",
      "Bolsa Plastico LEY                        343.0\n",
      "Producto de Oferta                        195.0\n",
      "Cerveza 33cl CRUZCAMPO                    134.0\n",
      "Cerveza 33cl VICTORIA                     121.0\n",
      "Cerveza 33cl SKOL                         114.0\n",
      "Coca Cola Lata 330ml Zero/sin cafeina     112.0\n"
     ]
    }
   ],
   "source": [
    "codigo_producto=1031\n",
    "indice = factura_final.loc[factura_final[\"Codigo\"] == codigo_producto].index[0]\n",
    "valor = factura_final.loc[indice, \"Producto\"]\n",
    "print(\"El producto\", valor, \" \\n\")\n",
    "df_groupby=factura_final.groupby(\"Num_Factura\")\n",
    "df_filtrado = df_groupby.filter(lambda x: codigo_producto in x[\"Codigo\"].values)\n",
    "df_conteo = df_filtrado.groupby(\"Producto\")[[\"Unidades\"]].sum().round(1)\n",
    "df_conteo = df_conteo.sort_values(\"Unidades\", ascending=False)\n",
    "print(\"suele ir acompañado por estos 10 productos: \\n \\n\",df_conteo.head(10))"
   ]
  },
  {
   "cell_type": "markdown",
   "id": "02019b3c",
   "metadata": {},
   "source": [
    "# Agua"
   ]
  },
  {
   "cell_type": "markdown",
   "id": "2e19bb3a",
   "metadata": {},
   "source": [
    "Podemos ver que con el agua suelen venderser chuches, fruta y pan pero hay diferencias en la cesta de la compra debido al tamaño del agua,\n",
    "ya con el agua de 5l suelen comprar sobre todo Pan."
   ]
  },
  {
   "cell_type": "code",
   "execution_count": 7,
   "id": "85ac5166",
   "metadata": {},
   "outputs": [
    {
     "name": "stdout",
     "output_type": "stream",
     "text": [
      "El producto Agua garrafa 5l FONT NATURA  \n",
      "\n",
      "suele ir acompañado por estos 10 productos: \n",
      " \n",
      "                                        Unidades\n",
      "Producto                                       \n",
      "Agua garrafa 5l FONT NATURA              5108.0\n",
      "Pan                                      2754.0\n",
      "Chuches 0.05                             1642.0\n",
      "Fruta al peso                            1450.4\n",
      "Bolsa Plastico LEY                        992.0\n",
      "Producto de Oferta                        568.0\n",
      "Coca Cola Lata 330ml Zero/sin cafeina     252.0\n",
      "Zumo mandarina  1.5l SIMON LIFE           153.0\n",
      "Cerveza 33cl VICTORIA                     143.0\n",
      "1/2 huevos                                136.0\n"
     ]
    }
   ],
   "source": [
    "codigo_producto=1072\n",
    "indice = factura_final.loc[factura_final[\"Codigo\"] == codigo_producto].index[0]\n",
    "valor = factura_final.loc[indice, \"Producto\"]\n",
    "print(\"El producto\", valor, \" \\n\")\n",
    "df_groupby=factura_final.groupby(\"Num_Factura\")\n",
    "df_filtrado = df_groupby.filter(lambda x: codigo_producto in x[\"Codigo\"].values)\n",
    "df_conteo = df_filtrado.groupby(\"Producto\")[[\"Unidades\"]].sum().round(1)\n",
    "df_conteo = df_conteo.sort_values(\"Unidades\", ascending=False)\n",
    "print(\"suele ir acompañado por estos 10 productos: \\n \\n\",df_conteo.head(10))"
   ]
  },
  {
   "cell_type": "markdown",
   "id": "86550c5c",
   "metadata": {},
   "source": [
    "Mientras que con las botellas de 1,5l de agua, el acompañanamiento suele ser bocadillos y otros refrescos junto con las chuches, pan y fruta como con las de 5l"
   ]
  },
  {
   "cell_type": "code",
   "execution_count": 8,
   "id": "94be8d7b",
   "metadata": {
    "scrolled": true
   },
   "outputs": [
    {
     "name": "stdout",
     "output_type": "stream",
     "text": [
      "El producto Agua 1,5L BEZOYA  \n",
      "\n",
      "suele ir acompañado por estos 10 productos: \n",
      " \n",
      "                      Unidades\n",
      "Producto                     \n",
      "Agua 1,5L BEZOYA       5776.0\n",
      "Pan                    1521.0\n",
      "Chuches 0.05           1380.6\n",
      "Producto de Oferta      925.0\n",
      "Fruta al peso           883.2\n",
      "Bolsa Plastico LEY      717.0\n",
      "Bocadillos oferta       424.0\n",
      "Coca cola 33cl          355.0\n",
      "Coca cola zero 33cl     169.0\n",
      "Fanta naranja 33cl      145.0\n"
     ]
    }
   ],
   "source": [
    "codigo_producto=1060\n",
    "indice = factura_final.loc[factura_final[\"Codigo\"] == codigo_producto].index[0]\n",
    "valor = factura_final.loc[indice, \"Producto\"]\n",
    "print(\"El producto\", valor, \" \\n\")\n",
    "df_groupby=factura_final.groupby(\"Num_Factura\")\n",
    "df_filtrado = df_groupby.filter(lambda x: codigo_producto in x[\"Codigo\"].values)\n",
    "df_conteo = df_filtrado.groupby(\"Producto\")[[\"Unidades\"]].sum().round(1)\n",
    "df_conteo = df_conteo.sort_values(\"Unidades\", ascending=False)\n",
    "print(\"suele ir acompañado por estos 10 productos: \\n \\n\",df_conteo.head(10))"
   ]
  },
  {
   "cell_type": "markdown",
   "id": "54298a89",
   "metadata": {},
   "source": [
    "# Productos de primera necesidad"
   ]
  },
  {
   "cell_type": "code",
   "execution_count": 9,
   "id": "ff0ba0f9",
   "metadata": {
    "scrolled": true
   },
   "outputs": [
    {
     "name": "stdout",
     "output_type": "stream",
     "text": [
      "El producto Leche Desnatada A+D PULEVA  \n",
      "\n",
      "suele ir acompañado por estos 10 productos: \n",
      " \n",
      "                                  Unidades\n",
      "Producto                                 \n",
      "Leche Desnatada A+D PULEVA         1504.0\n",
      "Bolsa Plastico LEY                  723.0\n",
      "Pan                                 713.0\n",
      "Fruta al peso                       544.3\n",
      "Chuches 0.05                        321.0\n",
      "Producto de Oferta                  243.0\n",
      "Zumo mandarina  1.5l SIMON LIFE     231.0\n",
      "Pechuga de pavo 100gr EL POZO       103.0\n",
      "Agua garrafa 5l FONT NATURA          90.0\n",
      "Bocadillos oferta                    74.0\n"
     ]
    }
   ],
   "source": [
    "codigo_producto=308\n",
    "indice = factura_final.loc[factura_final[\"Codigo\"] == codigo_producto].index[0]\n",
    "valor = factura_final.loc[indice, \"Producto\"]\n",
    "print(\"El producto\", valor, \" \\n\")\n",
    "df_groupby=factura_final.groupby(\"Num_Factura\")\n",
    "df_filtrado = df_groupby.filter(lambda x: codigo_producto in x[\"Codigo\"].values)\n",
    "df_conteo = df_filtrado.groupby(\"Producto\")[[\"Unidades\"]].sum().round(1)\n",
    "df_conteo = df_conteo.sort_values(\"Unidades\", ascending=False)\n",
    "print(\"suele ir acompañado por estos 10 productos: \\n \\n\",df_conteo.head(10))"
   ]
  },
  {
   "cell_type": "markdown",
   "id": "d90c1d5e",
   "metadata": {},
   "source": [
    "Observamos como con un producto en concreto fuera de las bebidas, la cesta de la compra ya es mas variada en la que se acompaña otros productos como zumo, pechuga de pavo, agua de 5l,.... Productos mas tipico de una cesta de casa"
   ]
  },
  {
   "cell_type": "code",
   "execution_count": 10,
   "id": "92100c3d",
   "metadata": {},
   "outputs": [
    {
     "name": "stdout",
     "output_type": "stream",
     "text": [
      "El producto 1/2 huevos  \n",
      "\n",
      "suele ir acompañado por estos 10 productos: \n",
      " \n",
      "                         Unidades\n",
      "Producto                        \n",
      "1/2 huevos                7192.0\n",
      "Pan                       5262.0\n",
      "Fruta al peso             4188.0\n",
      "Chuches 0.05              2722.0\n",
      "Bolsa Plastico LEY        1790.0\n",
      "Producto de Oferta        1241.0\n",
      "Leche Omega 3 PULEVA       218.0\n",
      "Cerveza 33cl CRUZCAMPO     218.0\n",
      "Cerveza 33cl VICTORIA      211.0\n",
      "Coca cola 33cl             162.0\n"
     ]
    }
   ],
   "source": [
    "codigo_producto=1256\n",
    "indice = factura_final.loc[factura_final[\"Codigo\"] == codigo_producto].index[0]\n",
    "valor = factura_final.loc[indice, \"Producto\"]\n",
    "print(\"El producto\", valor, \" \\n\")\n",
    "# Primero, agrupamos los datos y ordenamos los resultados\n",
    "df_groupby=factura_final.groupby(\"Num_Factura\")\n",
    "df_filtrado = df_groupby.filter(lambda x: codigo_producto in x[\"Codigo\"].values)\n",
    "df_conteo = df_filtrado.groupby(\"Producto\")[[\"Unidades\"]].sum().round(0)\n",
    "df_conteo = df_conteo.sort_values(\"Unidades\", ascending=False)\n",
    "\n",
    "\n",
    "\n",
    "print(\"suele ir acompañado por estos 10 productos: \\n \\n\",df_conteo.head(10))"
   ]
  },
  {
   "cell_type": "markdown",
   "id": "9ed3083c",
   "metadata": {},
   "source": [
    "Con los huevos, le acompañan otros productos de diario como pan y la fruta, y no tanta bebida"
   ]
  },
  {
   "cell_type": "code",
   "execution_count": 11,
   "id": "d78b96ac",
   "metadata": {},
   "outputs": [
    {
     "name": "stdout",
     "output_type": "stream",
     "text": [
      "El producto Fruta al peso  \n",
      "\n",
      "suele ir acompañado por estos 10 productos: \n",
      " \n",
      "                                Unidades\n",
      "Producto                               \n",
      "Fruta al peso                  107845.4\n",
      "Pan                             58208.3\n",
      "Chuches 0.05                    33182.6\n",
      "Bolsa Plastico LEY              24117.4\n",
      "Producto de Oferta              16937.7\n",
      "Cerveza 33cl CRUZCAMPO           2991.0\n",
      "1/2 huevos                       2635.0\n",
      "Cerveza 33cl SKOL                2320.0\n",
      "Cerveza 33cl VICTORIA            2222.0\n",
      "Pechuga de pavo 100gr EL POZO    2015.0\n"
     ]
    }
   ],
   "source": [
    "codigo_producto=1119\n",
    "indice = factura_final.loc[factura_final[\"Codigo\"] == codigo_producto].index[0]\n",
    "valor = factura_final.loc[indice, \"Producto\"]\n",
    "print(\"El producto\", valor, \" \\n\")\n",
    "df_groupby=factura_final.groupby(\"Num_Factura\")\n",
    "df_filtrado = df_groupby.filter(lambda x: codigo_producto in x[\"Codigo\"].values)\n",
    "df_conteo = df_filtrado.groupby(\"Producto\")[[\"Unidades\"]].sum().round(1)\n",
    "df_conteo = df_conteo.sort_values(\"Unidades\", ascending=False)\n",
    "print(\"suele ir acompañado por estos 10 productos: \\n \\n\",df_conteo.head(10))"
   ]
  },
  {
   "cell_type": "markdown",
   "id": "12898281",
   "metadata": {},
   "source": [
    "Viendo que la fruta acompaña a casi todos los productos, vemos que logicamente se acompaña juntos con la bolsa y el pan siendo compras del dia a dia"
   ]
  },
  {
   "cell_type": "code",
   "execution_count": 12,
   "id": "54c7e908",
   "metadata": {},
   "outputs": [
    {
     "name": "stdout",
     "output_type": "stream",
     "text": [
      "El producto Pechuga de pavo 100gr EL POZO  \n",
      "\n",
      "suele ir acompañado por estos 10 productos: \n",
      " \n",
      "                                               Unidades\n",
      "Producto                                              \n",
      "Pechuga de pavo 100gr EL POZO                   8004.0\n",
      "Pan                                             7090.0\n",
      "Chuches 0.05                                    2797.0\n",
      "Fruta al peso                                   2613.8\n",
      "Bolsa Plastico LEY                              2341.0\n",
      "Producto de Oferta                              1355.0\n",
      "Jamon Curado 8u 55gr NAVIDUL                     723.0\n",
      "queso en lonchas semi curado0.80g                685.0\n",
      "Chorizo tradicion 85gr REVILLA                   619.0\n",
      "Queso tierno bajo en sal 80gr GARCIA BAQUERO     580.0\n"
     ]
    }
   ],
   "source": [
    "codigo_producto=951\n",
    "indice = factura_final.loc[factura_final[\"Codigo\"] == codigo_producto].index[0]\n",
    "valor = factura_final.loc[indice, \"Producto\"]\n",
    "print(\"El producto\", valor, \" \\n\")\n",
    "df_groupby=factura_final.groupby(\"Num_Factura\")\n",
    "df_filtrado = df_groupby.filter(lambda x: codigo_producto in x[\"Codigo\"].values)\n",
    "df_conteo = df_filtrado.groupby(\"Producto\")[[\"Unidades\"]].sum().round(1)\n",
    "df_conteo = df_conteo.sort_values(\"Unidades\", ascending=False)\n",
    "print(\"suele ir acompañado por estos 10 productos: \\n \\n\",df_conteo.head(10))"
   ]
  },
  {
   "cell_type": "markdown",
   "id": "e37dfc74",
   "metadata": {},
   "source": [
    "Logicamente viendo las ventas de la Pechuga de pavo, se acompaña con el pan y otros tipo de embutidos"
   ]
  },
  {
   "cell_type": "code",
   "execution_count": 13,
   "id": "bc3d8459",
   "metadata": {
    "scrolled": true
   },
   "outputs": [
    {
     "name": "stdout",
     "output_type": "stream",
     "text": [
      "El producto Preparado para huevos rotos 400fr FRIPOZO  \n",
      "\n",
      "suele ir acompañado por estos 10 productos: \n",
      " \n",
      "                                            Unidades\n",
      "Producto                                           \n",
      "Preparado para huevos rotos 400fr FRIPOZO       6.0\n",
      "Coca cola 2L                                    5.0\n",
      "Fruta al peso                                   3.2\n",
      "Pan                                             3.0\n",
      "Cerveza 33cl SKOL                               2.0\n",
      "Jamon en tiras 65g NAVIDUL                      1.0\n",
      "Leche Semidesnatada calcio PULEVA               1.0\n",
      "PANINI Dr. Oetker HOT DOG                       1.0\n",
      "Pepsi 2L                                        1.0\n",
      "Pimenton dulce LAS PALMERAS                     1.0\n"
     ]
    }
   ],
   "source": [
    "codigo_producto=888\n",
    "indice = factura_final.loc[factura_final[\"Codigo\"] == codigo_producto].index[0]\n",
    "valor = factura_final.loc[indice, \"Producto\"]\n",
    "print(\"El producto\", valor, \" \\n\")\n",
    "df_groupby=factura_final.groupby(\"Num_Factura\")\n",
    "df_filtrado = df_groupby.filter(lambda x: codigo_producto in x[\"Codigo\"].values)\n",
    "df_conteo = df_filtrado.groupby(\"Producto\")[[\"Unidades\"]].sum().round(1)\n",
    "df_conteo = df_conteo.sort_values(\"Unidades\", ascending=False)\n",
    "print(\"suele ir acompañado por estos 10 productos: \\n \\n\",df_conteo.head(10))"
   ]
  },
  {
   "cell_type": "markdown",
   "id": "e32e2143",
   "metadata": {},
   "source": [
    "Con un producto mas especifico, que puede ser para una cena, se acompaña con bebibas, pan y otros productos de como leche, jamon o panini"
   ]
  },
  {
   "cell_type": "markdown",
   "id": "da555ebf",
   "metadata": {},
   "source": [
    "# Dulces"
   ]
  },
  {
   "cell_type": "markdown",
   "id": "2522c3e6",
   "metadata": {},
   "source": [
    "Los productos de dulces y bolleria, se observan que se acompanan de refrescos u otro dulce"
   ]
  },
  {
   "cell_type": "code",
   "execution_count": 14,
   "id": "2ccdb06b",
   "metadata": {},
   "outputs": [
    {
     "name": "stdout",
     "output_type": "stream",
     "text": [
      "El producto Donettes clasicos  \n",
      "\n",
      "suele ir acompañado por estos 10 productos: \n",
      " \n",
      "                                   Unidades\n",
      "Producto                                  \n",
      "Donettes clasicos                    942.0\n",
      "Chuches 0.05                         727.0\n",
      "Pan                                  384.0\n",
      "Bolsa Plastico LEY                   329.0\n",
      "Producto de Oferta                   251.0\n",
      "Blue Chameleon Bebida Energetica      96.0\n",
      "Fruta al peso                         91.7\n",
      "Coca cola 33cl                        46.0\n",
      "Caña Qe                               45.0\n",
      "Pechuga de pavo 100gr EL POZO         43.0\n"
     ]
    }
   ],
   "source": [
    "codigo_producto=7164\n",
    "indice = factura_final.loc[factura_final[\"Codigo\"] == codigo_producto].index[0]\n",
    "valor = factura_final.loc[indice, \"Producto\"]\n",
    "print(\"El producto\", valor, \" \\n\")\n",
    "df_groupby=factura_final.groupby(\"Num_Factura\")\n",
    "df_filtrado = df_groupby.filter(lambda x: codigo_producto in x[\"Codigo\"].values)\n",
    "df_conteo = df_filtrado.groupby(\"Producto\")[[\"Unidades\"]].sum().round(1)\n",
    "df_conteo = df_conteo.sort_values(\"Unidades\", ascending=False)\n",
    "print(\"suele ir acompañado por estos 10 productos: \\n \\n\",df_conteo.head(10))"
   ]
  },
  {
   "cell_type": "code",
   "execution_count": 15,
   "id": "e782b836",
   "metadata": {},
   "outputs": [
    {
     "name": "stdout",
     "output_type": "stream",
     "text": [
      "El producto Caña Qe  \n",
      "\n",
      "suele ir acompañado por estos 10 productos: \n",
      " \n",
      "                                   Unidades\n",
      "Producto                                  \n",
      "Caña Qe                             6201.0\n",
      "Chuches 0.05                        3127.0\n",
      "Pan                                 2162.0\n",
      "Producto de Oferta                  1272.0\n",
      "Bolsa Plastico LEY                  1126.0\n",
      "Fruta al peso                        489.7\n",
      "Coca cola 33cl                       364.0\n",
      "Blue Chameleon Bebida Energetica     273.0\n",
      "Pepsi 33cl                           267.0\n",
      "Arroz inflado MONCHITOS              241.0\n"
     ]
    }
   ],
   "source": [
    "codigo_producto=1192\n",
    "indice = factura_final.loc[factura_final[\"Codigo\"] == codigo_producto].index[0]\n",
    "valor = factura_final.loc[indice, \"Producto\"]\n",
    "print(\"El producto\", valor, \" \\n\")\n",
    "df_groupby=factura_final.groupby(\"Num_Factura\")\n",
    "df_filtrado = df_groupby.filter(lambda x: codigo_producto in x[\"Codigo\"].values)\n",
    "df_conteo = df_filtrado.groupby(\"Producto\")[[\"Unidades\"]].sum().round(1)\n",
    "df_conteo = df_conteo.sort_values(\"Unidades\", ascending=False)\n",
    "print(\"suele ir acompañado por estos 10 productos: \\n \\n\",df_conteo.head(10))"
   ]
  },
  {
   "cell_type": "markdown",
   "id": "fee69148",
   "metadata": {},
   "source": [
    "# Hielo"
   ]
  },
  {
   "cell_type": "markdown",
   "id": "d6b7feaf",
   "metadata": {},
   "source": [
    "El hielo se acompaña de la bolsa para poder llevarlo, junto con bebidas y refresco"
   ]
  },
  {
   "cell_type": "code",
   "execution_count": 16,
   "id": "4c11520b",
   "metadata": {},
   "outputs": [
    {
     "name": "stdout",
     "output_type": "stream",
     "text": [
      "El producto hielo iceberg  \n",
      "\n",
      "suele ir acompañado por estos 10 productos: \n",
      " \n",
      "                        Unidades\n",
      "Producto                       \n",
      "hielo iceberg            5543.0\n",
      "Chuches 0.05             1655.0\n",
      "Bolsa Plastico LEY       1641.0\n",
      "Pan                      1507.0\n",
      "Fruta al peso             713.9\n",
      "Producto de Oferta        677.0\n",
      "Coca cola 33cl            517.0\n",
      "Cerveza 1l VITORIA        393.0\n",
      "Coca cola 2L              376.0\n",
      "Cerveza 33cl VICTORIA     361.0\n"
     ]
    }
   ],
   "source": [
    "codigo_producto=1292\n",
    "indice = factura_final.loc[factura_final[\"Codigo\"] == codigo_producto].index[0]\n",
    "valor = factura_final.loc[indice, \"Producto\"]\n",
    "print(\"El producto\", valor, \" \\n\")\n",
    "df_groupby=factura_final.groupby(\"Num_Factura\")\n",
    "df_filtrado = df_groupby.filter(lambda x: codigo_producto in x[\"Codigo\"].values)\n",
    "df_conteo = df_filtrado.groupby(\"Producto\")[[\"Unidades\"]].sum().round(1)\n",
    "df_conteo = df_conteo.sort_values(\"Unidades\", ascending=False)\n",
    "print(\"suele ir acompañado por estos 10 productos: \\n \\n\",df_conteo.head(10))"
   ]
  },
  {
   "cell_type": "markdown",
   "id": "2917532a",
   "metadata": {},
   "source": [
    "# Bebidas energeticas"
   ]
  },
  {
   "cell_type": "code",
   "execution_count": 17,
   "id": "fb3e494a",
   "metadata": {},
   "outputs": [
    {
     "name": "stdout",
     "output_type": "stream",
     "text": [
      "El producto Blue Chameleon Bebida Energetica  \n",
      "\n",
      "suele ir acompañado por estos 10 productos: \n",
      " \n",
      "                                   Unidades\n",
      "Producto                                  \n",
      "Blue Chameleon Bebida Energetica   13571.0\n",
      "Chuches 0.05                        6775.0\n",
      "Bolsa Plastico LEY                  1596.0\n",
      "Producto de Oferta                  1368.0\n",
      "Pan                                 1288.0\n",
      "Cerveza 33cl SKOL                   1208.0\n",
      "Coca cola 33cl                       378.0\n",
      "Cerveza 1l SKOL                      341.0\n",
      "Fruta al peso                        325.2\n",
      "Cerveza 33cl VICTORIA                286.0\n"
     ]
    }
   ],
   "source": [
    "codigo_producto=3965\n",
    "indice = factura_final.loc[factura_final[\"Codigo\"] == codigo_producto].index[0]\n",
    "valor = factura_final.loc[indice, \"Producto\"]\n",
    "print(\"El producto\", valor, \" \\n\")\n",
    "df_groupby=factura_final.groupby(\"Num_Factura\")\n",
    "df_filtrado = df_groupby.filter(lambda x: codigo_producto in x[\"Codigo\"].values)\n",
    "df_conteo = df_filtrado.groupby(\"Producto\")[[\"Unidades\"]].sum().round(1)\n",
    "df_conteo = df_conteo.sort_values(\"Unidades\", ascending=False)\n",
    "print(\"suele ir acompañado por estos 10 productos: \\n \\n\",df_conteo.head(10))"
   ]
  },
  {
   "cell_type": "code",
   "execution_count": 18,
   "id": "0afb0f74",
   "metadata": {},
   "outputs": [
    {
     "name": "stdout",
     "output_type": "stream",
     "text": [
      "El producto Red bull 250ml  \n",
      "\n",
      "suele ir acompañado por estos 10 productos: \n",
      " \n",
      "                                   Unidades\n",
      "Producto                                  \n",
      "Red bull 250ml                      4880.0\n",
      "Chuches 0.05                        1711.0\n",
      "Pan                                  690.0\n",
      "Producto de Oferta                   620.0\n",
      "Bolsa Plastico LEY                   459.0\n",
      "Fruta al peso                        254.3\n",
      "Coca cola 33cl                       223.0\n",
      "Blue Chameleon Bebida Energetica     142.0\n",
      "Caña Qe                              110.0\n",
      "Cerveza 33cl VICTORIA                 94.0\n"
     ]
    }
   ],
   "source": [
    "codigo_producto=1036\n",
    "indice = factura_final.loc[factura_final[\"Codigo\"] == codigo_producto].index[0]\n",
    "valor = factura_final.loc[indice, \"Producto\"]\n",
    "print(\"El producto\", valor, \" \\n\")\n",
    "df_groupby=factura_final.groupby(\"Num_Factura\")\n",
    "df_filtrado = df_groupby.filter(lambda x: codigo_producto in x[\"Codigo\"].values)\n",
    "df_conteo = df_filtrado.groupby(\"Producto\")[[\"Unidades\"]].sum().round(1)\n",
    "df_conteo = df_conteo.sort_values(\"Unidades\", ascending=False)\n",
    "print(\"suele ir acompañado por estos 10 productos: \\n \\n\",df_conteo.head(10))"
   ]
  },
  {
   "cell_type": "markdown",
   "id": "014a9c43",
   "metadata": {},
   "source": [
    "# Refrescos"
   ]
  },
  {
   "cell_type": "markdown",
   "id": "5f202ec1",
   "metadata": {},
   "source": [
    "Con los refrescos se acompañan otros refresco, pan, dulces, bocadillos y  cervezas.\n",
    "\n",
    "Como destacable, los refrescos en lata lo acompañan otras bebidas de lata, y con los refrescos de 2l se acompañan de cervezas de 1l."
   ]
  },
  {
   "cell_type": "code",
   "execution_count": 19,
   "id": "f0fbc4d0",
   "metadata": {},
   "outputs": [
    {
     "name": "stdout",
     "output_type": "stream",
     "text": [
      "El producto Coca cola 33cl  \n",
      "\n",
      "suele ir acompañado por estos 10 productos: \n",
      " \n",
      "                         Unidades\n",
      "Producto                        \n",
      "Coca cola 33cl           18012.4\n",
      "Chuches 0.05              4798.0\n",
      "Pan                       3609.0\n",
      "Producto de Oferta        3328.0\n",
      "Bolsa Plastico LEY        2507.0\n",
      "Bocadillos oferta         2202.0\n",
      "Fruta al peso             1336.1\n",
      "Cerveza 33cl CRUZCAMPO     935.0\n",
      "Cerveza 33cl SKOL          782.0\n",
      "Fanta naranja 33cl         733.0\n"
     ]
    }
   ],
   "source": [
    "codigo_producto=1015\n",
    "indice = factura_final.loc[factura_final[\"Codigo\"] == codigo_producto].index[0]\n",
    "valor = factura_final.loc[indice, \"Producto\"]\n",
    "print(\"El producto\", valor, \" \\n\")\n",
    "df_groupby=factura_final.groupby(\"Num_Factura\")\n",
    "df_filtrado = df_groupby.filter(lambda x: codigo_producto in x[\"Codigo\"].values)\n",
    "df_conteo = df_filtrado.groupby(\"Producto\")[[\"Unidades\"]].sum().round(1)\n",
    "df_conteo = df_conteo.sort_values(\"Unidades\", ascending=False)\n",
    "print(\"suele ir acompañado por estos 10 productos: \\n \\n\",df_conteo.head(10))"
   ]
  },
  {
   "cell_type": "code",
   "execution_count": 20,
   "id": "5694ba00",
   "metadata": {},
   "outputs": [
    {
     "name": "stdout",
     "output_type": "stream",
     "text": [
      "El producto Coca Cola Lata 330ml Zero/sin cafeina  \n",
      "\n",
      "suele ir acompañado por estos 10 productos: \n",
      " \n",
      "                                        Unidades\n",
      "Producto                                       \n",
      "Coca Cola Lata 330ml Zero/sin cafeina    4376.0\n",
      "Chuches 0.05                             1796.0\n",
      "Pan                                      1718.0\n",
      "Bolsa Plastico LEY                        949.0\n",
      "Fruta al peso                             904.5\n",
      "Producto de Oferta                        875.0\n",
      "Cerveza 33cl SKOL                         696.0\n",
      "Cerveza 33cl VICTORIA                     448.0\n",
      "Bocadillos oferta                         340.0\n",
      "Coca cola zero 33cl                       249.0\n"
     ]
    }
   ],
   "source": [
    "codigo_producto=3306\n",
    "indice = factura_final.loc[factura_final[\"Codigo\"] == codigo_producto].index[0]\n",
    "valor = factura_final.loc[indice, \"Producto\"]\n",
    "print(\"El producto\", valor, \" \\n\")\n",
    "df_groupby=factura_final.groupby(\"Num_Factura\")\n",
    "df_filtrado = df_groupby.filter(lambda x: codigo_producto in x[\"Codigo\"].values)\n",
    "df_conteo = df_filtrado.groupby(\"Producto\")[[\"Unidades\"]].sum().round(1)\n",
    "df_conteo = df_conteo.sort_values(\"Unidades\", ascending=False)\n",
    "print(\"suele ir acompañado por estos 10 productos: \\n \\n\",df_conteo.head(10))"
   ]
  },
  {
   "cell_type": "code",
   "execution_count": 21,
   "id": "601398b0",
   "metadata": {},
   "outputs": [
    {
     "name": "stdout",
     "output_type": "stream",
     "text": [
      "El producto Coca cola 2L   \n",
      "\n",
      "suele ir acompañado por estos 10 productos: \n",
      " \n",
      "                     Unidades\n",
      "Producto                    \n",
      "Coca cola 2L          9109.0\n",
      "Chuches 0.05          3805.0\n",
      "Pan                   3795.0\n",
      "Bolsa Plastico LEY    3274.0\n",
      "Producto de Oferta    1713.0\n",
      "Fruta al peso         1494.3\n",
      "Cerveza 1l VITORIA     543.0\n",
      "hielo iceberg          386.0\n",
      "Hielo iceberg          312.0\n",
      "Fanta naranja 2L       303.0\n"
     ]
    }
   ],
   "source": [
    "codigo_producto=1042\n",
    "indice = factura_final.loc[factura_final[\"Codigo\"] == codigo_producto].index[0]\n",
    "valor = factura_final.loc[indice, \"Producto\"]\n",
    "print(\"El producto\", valor, \" \\n\")\n",
    "df_groupby=factura_final.groupby(\"Num_Factura\")\n",
    "df_filtrado = df_groupby.filter(lambda x: codigo_producto in x[\"Codigo\"].values)\n",
    "df_conteo = df_filtrado.groupby(\"Producto\")[[\"Unidades\"]].sum().round(1)\n",
    "df_conteo = df_conteo.sort_values(\"Unidades\", ascending=False)\n",
    "print(\"suele ir acompañado por estos 10 productos: \\n \\n\",df_conteo.head(10))"
   ]
  },
  {
   "cell_type": "code",
   "execution_count": 22,
   "id": "f1a8e277",
   "metadata": {},
   "outputs": [
    {
     "name": "stdout",
     "output_type": "stream",
     "text": [
      "El producto Coca cola light 2L  \n",
      "\n",
      "suele ir acompañado por estos 10 productos: \n",
      " \n",
      "                         Unidades\n",
      "Producto                        \n",
      "Coca cola light 2L         962.0\n",
      "Pan                        376.0\n",
      "Fruta al peso              222.0\n",
      "Chuches 0.05               219.0\n",
      "Producto de Oferta         187.0\n",
      "Bolsa Plastico LEY         174.0\n",
      "Cerveza 33cl CRUZCAMPO      71.0\n",
      "hielo iceberg               62.0\n",
      "Cerveza 1l VITORIA          51.0\n",
      "Gusanitos 0,35 RISI         47.0\n"
     ]
    }
   ],
   "source": [
    "codigo_producto=1044\n",
    "indice = factura_final.loc[factura_final[\"Codigo\"] == codigo_producto].index[0]\n",
    "valor = factura_final.loc[indice, \"Producto\"]\n",
    "print(\"El producto\", valor, \" \\n\")\n",
    "# Primero, agrupamos los datos y ordenamos los resultados\n",
    "df_groupby=factura_final.groupby(\"Num_Factura\")\n",
    "df_filtrado = df_groupby.filter(lambda x: codigo_producto in x[\"Codigo\"].values)\n",
    "df_conteo = df_filtrado.groupby(\"Producto\")[[\"Unidades\"]].sum().round(0)\n",
    "df_conteo = df_conteo.sort_values(\"Unidades\", ascending=False)\n",
    "\n",
    "\n",
    "\n",
    "print(\"suele ir acompañado por estos 10 productos: \\n \\n\",df_conteo.head(10))"
   ]
  },
  {
   "cell_type": "markdown",
   "id": "86f91549",
   "metadata": {},
   "source": [
    "# Bolsas"
   ]
  },
  {
   "cell_type": "code",
   "execution_count": 24,
   "id": "1f4d9958",
   "metadata": {
    "scrolled": true
   },
   "outputs": [
    {
     "name": "stdout",
     "output_type": "stream",
     "text": [
      "El producto Bolsa Plastico LEY  \n",
      "\n",
      "suele ir acompañado por estos 10 productos: \n",
      " \n",
      "                         Unidades\n",
      "Producto                        \n",
      "Bolsa Plastico LEY       82471.0\n",
      "Pan                      56357.0\n",
      "Chuches 0.05             51389.0\n",
      "Fruta al peso            34250.0\n",
      "Producto de Oferta       21144.0\n",
      "Cerveza 33cl VICTORIA    11504.0\n",
      "Cerveza 1l VITORIA        6999.0\n",
      "Cerveza 33cl SKOL         6171.0\n",
      "Cerveza 33cl CRUZCAMPO    6103.0\n",
      "cervesa alhambra 1l       4424.0\n"
     ]
    }
   ],
   "source": [
    "codigo_producto=6938\n",
    "indice = factura_final.loc[factura_final[\"Codigo\"] == codigo_producto].index[0]\n",
    "valor = factura_final.loc[indice, \"Producto\"]\n",
    "print(\"El producto\", valor, \" \\n\")\n",
    "# Primero, agrupamos los datos y ordenamos los resultados\n",
    "df_groupby=factura_final.groupby(\"Num_Factura\")\n",
    "df_filtrado = df_groupby.filter(lambda x: codigo_producto in x[\"Codigo\"].values)\n",
    "df_conteo = df_filtrado.groupby(\"Producto\")[[\"Unidades\"]].sum().round(0)\n",
    "df_conteo = df_conteo.sort_values(\"Unidades\", ascending=False)\n",
    "\n",
    "\n",
    "\n",
    "print(\"suele ir acompañado por estos 10 productos: \\n \\n\",df_conteo.head(10))"
   ]
  },
  {
   "cell_type": "markdown",
   "id": "1a007920",
   "metadata": {},
   "source": [
    "Siendo las bolsas uno de los productos mas vendidos, es acompañado por la fruta que requiere bolsa, el pan y otras bebidas."
   ]
  },
  {
   "cell_type": "code",
   "execution_count": null,
   "id": "b17afded",
   "metadata": {},
   "outputs": [],
   "source": []
  },
  {
   "cell_type": "code",
   "execution_count": null,
   "id": "bb0b43c0",
   "metadata": {},
   "outputs": [],
   "source": []
  }
 ],
 "metadata": {
  "kernelspec": {
   "display_name": "Python 3 (ipykernel)",
   "language": "python",
   "name": "python3"
  },
  "language_info": {
   "codemirror_mode": {
    "name": "ipython",
    "version": 3
   },
   "file_extension": ".py",
   "mimetype": "text/x-python",
   "name": "python",
   "nbconvert_exporter": "python",
   "pygments_lexer": "ipython3",
   "version": "3.9.12"
  }
 },
 "nbformat": 4,
 "nbformat_minor": 5
}
